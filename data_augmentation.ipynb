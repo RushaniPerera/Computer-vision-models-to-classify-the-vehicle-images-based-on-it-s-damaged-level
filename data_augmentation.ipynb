{
 "cells": [
  {
   "cell_type": "code",
   "execution_count": 46,
   "metadata": {},
   "outputs": [],
   "source": [
    "import keras\n",
    "import cv2\n",
    "import os\n",
    "import glob\n",
    "from keras.preprocessing.image import ImageDataGenerator, array_to_img, img_to_array, load_img\n",
    "import random\n",
    "from tensorflow.keras.preprocessing import image"
   ]
  },
  {
   "cell_type": "code",
   "execution_count": 40,
   "metadata": {},
   "outputs": [],
   "source": [
    "train_low = os.listdir('E:/2- vehi damage/Damage data/training/low')\n",
    "train_medium = os.listdir('E:/2- vehi damage/Damage data/training/medium')\n",
    "train_nodamage = os.listdir('E:/2- vehi damage/Damage data/training/no_damage')\n",
    "train_severe = os.listdir('E:/2- vehi damage/Damage data/training/severe')"
   ]
  },
  {
   "cell_type": "code",
   "execution_count": 16,
   "metadata": {},
   "outputs": [],
   "source": [
    "#Creating a function to create images\n",
    "def create_images(name,save_path,image_path):\n",
    "    #Generating a random number for rotation\n",
    "    rotation = random.randint(-20,20)\n",
    "    #Creating Image Data Generator:\n",
    "    augmentation = ImageDataGenerator(rotation_range=rotation, shear_range = 0.2, zoom_range = 0.2, horizontal_flip=True)\n",
    "    \n",
    "    #Reading the image from given path.\n",
    "    image_org = image.load_img(image_path+'/'+name)\n",
    "    \n",
    "    #Saving original image to folder.\n",
    "    image_org.save(save_path+'/'+name)\n",
    "    \n",
    "    #Getting the numpy array of image.\n",
    "    image_arr = image.img_to_array(image_org)\n",
    "    \n",
    "    #Expanding dimensions of image array\n",
    "    image_arr = image_arr.reshape((1,) + image_arr.shape)\n",
    "    \n",
    "    #Using Flow to generate 4 new images for single image\n",
    "    for arr,val in zip(augmentation.flow(image_arr, batch_size=1, save_format='jpeg'),range(1)):\n",
    "        name = name.split('.')[0]\n",
    "        img_save = image.array_to_img(arr[0], scale=False)\n",
    "        img_save.save(save_path+'/'+name+'_aug_'+str(val)+'.jpeg')\n",
    "    return paths"
   ]
  },
  {
   "cell_type": "code",
   "execution_count": 17,
   "metadata": {},
   "outputs": [],
   "source": [
    "#Saving images\n",
    "def save_images(name,save_path,image_path):\n",
    "    \n",
    "    #Reading the image from given path.\n",
    "    image_org = image.load_img(image_path+'/'+name)\n",
    "    \n",
    "    #Saving original image to folder.\n",
    "    image_org.save(save_path+'/'+name)"
   ]
  },
  {
   "cell_type": "code",
   "execution_count": 35,
   "metadata": {},
   "outputs": [],
   "source": [
    "for i in train_low:\n",
    "    create_images(i,'E:/2- vehi damage/augmented data/training/low','E:/2- vehi damage/Damage data/training/low')"
   ]
  },
  {
   "cell_type": "code",
   "execution_count": 41,
   "metadata": {},
   "outputs": [],
   "source": [
    "for i in train_medium:\n",
    "    create_images(i,'E:/2- vehi damage/augmented data/training/medium','E:/2- vehi damage/Damage data/training/medium')"
   ]
  },
  {
   "cell_type": "code",
   "execution_count": 44,
   "metadata": {},
   "outputs": [],
   "source": [
    "for i in train_nodamage:\n",
    "    create_images(i,'E:/2- vehi damage/augmented data/training/no_damage','E:/2- vehi damage/Damage data/training/no_damage')"
   ]
  },
  {
   "cell_type": "code",
   "execution_count": 45,
   "metadata": {},
   "outputs": [],
   "source": [
    "for i in train_severe:\n",
    "    create_images(i,'E:/2- vehi damage/augmented data/training/severe','E:/2- vehi damage/Damage data/training/severe')"
   ]
  },
  {
   "cell_type": "code",
   "execution_count": null,
   "metadata": {},
   "outputs": [],
   "source": []
  },
  {
   "cell_type": "code",
   "execution_count": null,
   "metadata": {},
   "outputs": [],
   "source": []
  },
  {
   "cell_type": "code",
   "execution_count": null,
   "metadata": {},
   "outputs": [],
   "source": []
  }
 ],
 "metadata": {
  "kernelspec": {
   "display_name": "Python 3",
   "language": "python",
   "name": "python3"
  },
  "language_info": {
   "codemirror_mode": {
    "name": "ipython",
    "version": 3
   },
   "file_extension": ".py",
   "mimetype": "text/x-python",
   "name": "python",
   "nbconvert_exporter": "python",
   "pygments_lexer": "ipython3",
   "version": "3.7.4"
  }
 },
 "nbformat": 4,
 "nbformat_minor": 2
}
