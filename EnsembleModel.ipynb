{
  "nbformat": 4,
  "nbformat_minor": 0,
  "metadata": {
    "kernelspec": {
      "display_name": "Python 3",
      "language": "python",
      "name": "python3"
    },
    "language_info": {
      "codemirror_mode": {
        "name": "ipython",
        "version": 3
      },
      "file_extension": ".py",
      "mimetype": "text/x-python",
      "name": "python",
      "nbconvert_exporter": "python",
      "pygments_lexer": "ipython3",
      "version": "3.7.4"
    },
    "colab": {
      "name": "ensembleModel.ipynb",
      "provenance": [],
      "collapsed_sections": []
    },
    "accelerator": "GPU"
  },
  "cells": [
    {
      "cell_type": "code",
      "metadata": {
        "id": "6dtMr0-HRyvA"
      },
      "source": [
        "from keras.models import load_model\n",
        "import tensorflow as tf\n",
        "from keras.preprocessing.image import ImageDataGenerator, load_img\n",
        "from tensorflow.keras.layers import Layer"
      ],
      "execution_count": 1,
      "outputs": []
    },
    {
      "cell_type": "code",
      "metadata": {
        "id": "Fb9NYxbNRyvH"
      },
      "source": [
        "incep= load_model('/content/drive/MyDrive/CVmodel/incepbest/Incepmodel3.h5')"
      ],
      "execution_count": 3,
      "outputs": []
    },
    {
      "cell_type": "code",
      "metadata": {
        "id": "yxbmx0oaRyvI"
      },
      "source": [
        "to_res = (224, 224)\n",
        "res50 = load_model('/content/drive/MyDrive/CVmodel/Resnet50/res50model2.h5')"
      ],
      "execution_count": 4,
      "outputs": []
    },
    {
      "cell_type": "code",
      "metadata": {
        "colab": {
          "base_uri": "https://localhost:8080/"
        },
        "id": "KeUeYabsWZm9",
        "outputId": "f2e5dc0a-ef7d-43ff-b415-90beca90fc81"
      },
      "source": [
        "from google.colab import drive\n",
        "drive.mount('/content/drive')"
      ],
      "execution_count": 2,
      "outputs": [
        {
          "output_type": "stream",
          "text": [
            "Mounted at /content/drive\n"
          ],
          "name": "stdout"
        }
      ]
    },
    {
      "cell_type": "code",
      "metadata": {
        "id": "L920ZfYnRyvL"
      },
      "source": [
        "train_path='/content/drive/MyDrive/CVmodel/traindata'\n",
        "valid_path='/content/drive/MyDrive/CVmodel/validation'\n",
        "test_path = '/content/drive/MyDrive/CVmodel/testset'"
      ],
      "execution_count": 6,
      "outputs": []
    },
    {
      "cell_type": "code",
      "metadata": {
        "id": "l4Qw72LTRyvL"
      },
      "source": [
        "train_datagen = ImageDataGenerator(rescale = 1./255,\n",
        "                                  shear_range = 0.2,\n",
        "                                  zoom_range = 0.2,\n",
        "                                  horizontal_flip = True)\n",
        "\n",
        "\n",
        "test_datagen = ImageDataGenerator(rescale = 1./255)\n",
        "\n",
        "valid_datagen = ImageDataGenerator(rescale = 1./255)"
      ],
      "execution_count": 7,
      "outputs": []
    },
    {
      "cell_type": "code",
      "metadata": {
        "colab": {
          "base_uri": "https://localhost:8080/"
        },
        "id": "NncHNxHm2pJE",
        "outputId": "031474c8-dbd2-4856-c692-4badd4ef3f74"
      },
      "source": [
        "training_set = train_datagen.flow_from_directory(train_path,\n",
        "                                                target_size = (224, 224),\n",
        "                                                batch_size=16,\n",
        "                                                class_mode = 'categorical')"
      ],
      "execution_count": 8,
      "outputs": [
        {
          "output_type": "stream",
          "text": [
            "Found 1236 images belonging to 4 classes.\n"
          ],
          "name": "stdout"
        }
      ]
    },
    {
      "cell_type": "code",
      "metadata": {
        "colab": {
          "base_uri": "https://localhost:8080/"
        },
        "id": "bjUPkHIt2poP",
        "outputId": "73f57985-5dd6-4045-c910-fdd013ef6a0a"
      },
      "source": [
        "valid_set = valid_datagen.flow_from_directory(valid_path,\n",
        "                                                target_size = (224, 224),\n",
        "                                                batch_size=16,                                                \n",
        "                                                class_mode = 'categorical')"
      ],
      "execution_count": 9,
      "outputs": [
        {
          "output_type": "stream",
          "text": [
            "Found 216 images belonging to 4 classes.\n"
          ],
          "name": "stdout"
        }
      ]
    },
    {
      "cell_type": "code",
      "metadata": {
        "id": "9eLjYU59RyvM",
        "colab": {
          "base_uri": "https://localhost:8080/"
        },
        "outputId": "f79054ec-75c5-43d4-fc85-411913d3ddd1"
      },
      "source": [
        "test_set = test_datagen.flow_from_directory(test_path,\n",
        "                                            #target_size = (224, 224),\n",
        "                                            batch_size=8,\n",
        "                                            class_mode = 'categorical',\n",
        "                                            shuffle=False)"
      ],
      "execution_count": 10,
      "outputs": [
        {
          "output_type": "stream",
          "text": [
            "Found 47 images belonging to 4 classes.\n"
          ],
          "name": "stdout"
        }
      ]
    },
    {
      "cell_type": "code",
      "metadata": {
        "id": "oYYIXO2wC7T4"
      },
      "source": [
        "models = [incep,res50]"
      ],
      "execution_count": 25,
      "outputs": []
    },
    {
      "cell_type": "code",
      "metadata": {
        "id": "COfs_yonCh01"
      },
      "source": [
        "def ensemble_predictions(members, testX):\n",
        "  yhats = [model.predict(testX) for model in members]\n",
        "  yhats = np.array(yhats)\n",
        "  # sum across ensemble members\n",
        "  summed = np.average(yhats, axis=0)\n",
        "  # argmax across classes\n",
        "  result = np.argmax(summed, axis=1)\n",
        "  return result"
      ],
      "execution_count": 30,
      "outputs": []
    },
    {
      "cell_type": "code",
      "metadata": {
        "colab": {
          "base_uri": "https://localhost:8080/"
        },
        "id": "u3Aag-IAEoD5",
        "outputId": "5488ed5a-7a80-4601-f319-66fec4ffc034"
      },
      "source": [
        "import numpy as np\n",
        "index= ensemble_predictions(models,test_set)"
      ],
      "execution_count": 31,
      "outputs": [
        {
          "output_type": "stream",
          "text": [
            "/usr/local/lib/python3.7/dist-packages/PIL/TiffImagePlugin.py:788: UserWarning: Corrupt EXIF data.  Expecting to read 4 bytes but only got 0. \n",
            "  warnings.warn(str(msg))\n"
          ],
          "name": "stderr"
        }
      ]
    },
    {
      "cell_type": "code",
      "metadata": {
        "colab": {
          "base_uri": "https://localhost:8080/"
        },
        "id": "FxFVeICe6-9c",
        "outputId": "b2f926e7-5ff5-4ae2-e879-214f5486de63"
      },
      "source": [
        "index"
      ],
      "execution_count": 32,
      "outputs": [
        {
          "output_type": "execute_result",
          "data": {
            "text/plain": [
              "array([1, 1, 0, 1, 2, 1, 3, 3, 1, 3, 2, 1, 1, 1, 1, 1, 2, 2, 2, 2, 2, 2,\n",
              "       2, 2, 1, 3, 2, 2, 1, 2, 3, 3, 3, 1, 3, 2, 3, 3, 1, 3, 3, 1, 2, 1,\n",
              "       3, 3, 3])"
            ]
          },
          "metadata": {
            "tags": []
          },
          "execution_count": 32
        }
      ]
    },
    {
      "cell_type": "code",
      "metadata": {
        "id": "KMx6AqdA4lpJ",
        "colab": {
          "base_uri": "https://localhost:8080/"
        },
        "outputId": "5eecb51a-7c3c-4a5b-bbdb-c7a8801cd6af"
      },
      "source": [
        "from sklearn.metrics import classification_report\n",
        "target_names = ['low', 'medium','no_damage','severe']\n",
        "print(classification_report(test_set.classes,index, target_names=target_names))"
      ],
      "execution_count": 33,
      "outputs": [
        {
          "output_type": "stream",
          "text": [
            "              precision    recall  f1-score   support\n",
            "\n",
            "         low       1.00      0.33      0.50         3\n",
            "      medium       0.50      0.62      0.55        13\n",
            "   no_damage       0.73      0.79      0.76        14\n",
            "      severe       0.73      0.65      0.69        17\n",
            "\n",
            "    accuracy                           0.66        47\n",
            "   macro avg       0.74      0.60      0.62        47\n",
            "weighted avg       0.69      0.66      0.66        47\n",
            "\n"
          ],
          "name": "stdout"
        }
      ]
    }
  ]
}
