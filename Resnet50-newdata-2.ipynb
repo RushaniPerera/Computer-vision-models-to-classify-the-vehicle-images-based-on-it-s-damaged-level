{
 "cells": [
  {
   "cell_type": "code",
   "execution_count": null,
   "metadata": {
    "_cell_guid": "b1076dfc-b9ad-4769-8c92-a6c4dae69d19",
    "_uuid": "8f2839f25d086af736a60e9eeb907d3b93b6e0e5"
   },
   "outputs": [],
   "source": [
    "import numpy as np # linear algebra\n",
    "import pandas as pd # data processing, CSV file I/O (e.g. pd.read_csv)\n",
    "\n",
    "import os\n",
    "for dirname, _, filenames in os.walk('/kaggle/input'):\n",
    "    for filename in filenames:\n",
    "        print(os.path.join(dirname, filename))\n",
   ]
  },
  {
   "cell_type": "code",
   "execution_count": 1,
   "metadata": {
    "execution": {
     "iopub.execute_input": "2021-07-12T14:52:30.687652Z",
     "iopub.status.busy": "2021-07-12T14:52:30.687255Z",
     "iopub.status.idle": "2021-07-12T14:52:34.644856Z",
     "shell.execute_reply": "2021-07-12T14:52:34.643953Z",
     "shell.execute_reply.started": "2021-07-12T14:52:30.687567Z"
    }
   },
   "outputs": [],
   "source": [
    "import tensorflow as tf\n",
    "import keras as K\n",
    "from tensorflow.keras.layers import Input, Lambda, Dense, Flatten\n",
    "from tensorflow.keras.models import Model\n",
    "from tensorflow.keras.applications.vgg16 import VGG16\n",
    "from tensorflow.keras.applications.vgg19 import VGG19\n",
    "from tensorflow.keras.applications.resnet50 import ResNet50\n",
    "# from tensorflow.keras.applications.InceptionV3 import InceptionV3\n",
    "from keras import applications\n",
    "\n",
    "from tensorflow.keras.preprocessing import image\n",
    "from tensorflow.keras.preprocessing.image import ImageDataGenerator, load_img\n",
    "from tensorflow.keras.models import Sequential\n",
    "import numpy as np\n",
    "from glob import glob\n",
    "from keras.applications.resnet50 import preprocess_input"
   ]
  },
  {
   "cell_type": "code",
   "execution_count": 2,
   "metadata": {
    "execution": {
     "iopub.execute_input": "2021-07-12T14:52:38.410417Z",
     "iopub.status.busy": "2021-07-12T14:52:38.410037Z",
     "iopub.status.idle": "2021-07-12T14:52:38.415565Z",
     "shell.execute_reply": "2021-07-12T14:52:38.414411Z",
     "shell.execute_reply.started": "2021-07-12T14:52:38.410387Z"
    }
   },
   "outputs": [],
   "source": [
    "IMAGE_SIZE_resnet50 = [224, 224]\n",
    "\n",
    "\n",
    "train_path = '../input/newtraindata/newdataset'\n",
    "valid_path = '../input/valida/validation'\n",
    "test_path= '../input/newtestdata1/CV-validation_dataset'"
   ]
  },
  {
   "cell_type": "code",
   "execution_count": 3,
   "metadata": {
    "execution": {
     "iopub.execute_input": "2021-07-12T14:52:40.908276Z",
     "iopub.status.busy": "2021-07-12T14:52:40.907923Z",
     "iopub.status.idle": "2021-07-12T14:52:44.859213Z",
     "shell.execute_reply": "2021-07-12T14:52:44.858183Z",
     "shell.execute_reply.started": "2021-07-12T14:52:40.908245Z"
    }
   },
   "outputs": [
    {
     "name": "stdout",
     "output_type": "stream",
     "text": [
      "Downloading data from https://storage.googleapis.com/tensorflow/keras-applications/resnet/resnet50_weights_tf_dim_ordering_tf_kernels_notop.h5\n",
      "94773248/94765736 [==============================] - 1s 0us/step\n"
     ]
    }
   ],
   "source": [
    "resnet50 = ResNet50(input_shape=IMAGE_SIZE_resnet50+[3], weights = 'imagenet', include_top = False)"
   ]
  },
  {
   "cell_type": "code",
   "execution_count": 4,
   "metadata": {
    "execution": {
     "iopub.execute_input": "2021-07-12T14:52:46.868826Z",
     "iopub.status.busy": "2021-07-12T14:52:46.868367Z",
     "iopub.status.idle": "2021-07-12T14:52:46.884625Z",
     "shell.execute_reply": "2021-07-12T14:52:46.883648Z",
     "shell.execute_reply.started": "2021-07-12T14:52:46.868789Z"
    }
   },
   "outputs": [],
   "source": [
    "for layer in resnet50.layers:\n",
    "    layer.trainable = False"
   ]
  },
  {
   "cell_type": "code",
   "execution_count": 5,
   "metadata": {
    "execution": {
     "iopub.execute_input": "2021-07-12T14:52:49.629107Z",
     "iopub.status.busy": "2021-07-12T14:52:49.628481Z",
     "iopub.status.idle": "2021-07-12T14:52:49.690929Z",
     "shell.execute_reply": "2021-07-12T14:52:49.690029Z",
     "shell.execute_reply.started": "2021-07-12T14:52:49.629064Z"
    }
   },
   "outputs": [],
   "source": [
    "model = K.models.Sequential()\n",
    "model.add(K.layers.Lambda(lambda image: tf.image.resize(image,(224, 224)))) \n",
    "model.add(resnet50)\n",
    "model.add(K.layers.Flatten())\n",
    "#model.add(K.layers.BatchNormalization())\n",
    "model.add(K.layers.Dense(256, activation='relu'))\n",
    "model.add(K.layers.Dropout(0.5))\n",
    "model.add(K.layers.BatchNormalization())\n",
    "model.add(K.layers.Dense(128, activation='relu'))\n",
    "model.add(K.layers.Dropout(0.5))\n",
    "#model.add(K.layers.BatchNormalization())\n",
    "model.add(K.layers.Dense(128, activation='relu'))\n",
    "model.add(K.layers.Dropout(0.5))\n",
    "model.add(K.layers.BatchNormalization())\n",
    "model.add(K.layers.Dense(50, activation='relu'))\n",
    "model.add(K.layers.Dense(10, activation='relu'))\n",
    "model.add(K.layers.Dense(4, activation='softmax'))\n"
   ]
  },
  {
   "cell_type": "code",
   "execution_count": 6,
   "metadata": {
    "execution": {
     "iopub.execute_input": "2021-07-12T14:52:53.029117Z",
     "iopub.status.busy": "2021-07-12T14:52:53.028778Z",
     "iopub.status.idle": "2021-07-12T14:52:53.049700Z",
     "shell.execute_reply": "2021-07-12T14:52:53.048787Z",
     "shell.execute_reply.started": "2021-07-12T14:52:53.029086Z"
    }
   },
   "outputs": [],
   "source": [
    "model.compile(loss= 'categorical_crossentropy', optimizer='adam', metrics = ['accuracy'])"
   ]
  },
  {
   "cell_type": "code",
   "execution_count": 7,
   "metadata": {
    "execution": {
     "iopub.execute_input": "2021-07-12T14:52:55.244794Z",
     "iopub.status.busy": "2021-07-12T14:52:55.244473Z",
     "iopub.status.idle": "2021-07-12T14:52:55.249546Z",
     "shell.execute_reply": "2021-07-12T14:52:55.248428Z",
     "shell.execute_reply.started": "2021-07-12T14:52:55.244765Z"
    }
   },
   "outputs": [],
   "source": [
    "train_datagen = ImageDataGenerator(preprocessing_function=preprocess_input)\n",
    "\n",
    "\n",
    "test_datagen = ImageDataGenerator(preprocessing_function=preprocess_input)\n",
    "valid_datagen = ImageDataGenerator(preprocessing_function=preprocess_input)"
   ]
  },
  {
   "cell_type": "code",
   "execution_count": 8,
   "metadata": {
    "execution": {
     "iopub.execute_input": "2021-07-12T14:52:57.887777Z",
     "iopub.status.busy": "2021-07-12T14:52:57.887305Z",
     "iopub.status.idle": "2021-07-12T14:52:58.306059Z",
     "shell.execute_reply": "2021-07-12T14:52:58.305168Z",
     "shell.execute_reply.started": "2021-07-12T14:52:57.887724Z"
    }
   },
   "outputs": [
    {
     "name": "stdout",
     "output_type": "stream",
     "text": [
      "Found 1217 images belonging to 4 classes.\n"
     ]
    }
   ],
   "source": [
    "training_set = train_datagen.flow_from_directory(train_path,\n",
    "                                                target_size = (224, 224),\n",
    "                                                batch_size=16,\n",
    "                                                class_mode = 'categorical')"
   ]
  },
  {
   "cell_type": "code",
   "execution_count": 9,
   "metadata": {
    "execution": {
     "iopub.execute_input": "2021-07-12T14:53:01.188528Z",
     "iopub.status.busy": "2021-07-12T14:53:01.188187Z",
     "iopub.status.idle": "2021-07-12T14:53:01.317207Z",
     "shell.execute_reply": "2021-07-12T14:53:01.316285Z",
     "shell.execute_reply.started": "2021-07-12T14:53:01.188497Z"
    }
   },
   "outputs": [
    {
     "name": "stdout",
     "output_type": "stream",
     "text": [
      "Found 207 images belonging to 4 classes.\n"
     ]
    }
   ],
   "source": [
    "valid_set = valid_datagen.flow_from_directory(valid_path,\n",
    "                                                target_size = (224, 224),\n",
    "                                                batch_size=16,                                                \n",
    "                                                class_mode = 'categorical')"
   ]
  },
  {
   "cell_type": "code",
   "execution_count": 10,
   "metadata": {
    "execution": {
     "iopub.execute_input": "2021-07-12T14:53:04.209435Z",
     "iopub.status.busy": "2021-07-12T14:53:04.209024Z",
     "iopub.status.idle": "2021-07-12T14:53:04.215376Z",
     "shell.execute_reply": "2021-07-12T14:53:04.214369Z",
     "shell.execute_reply.started": "2021-07-12T14:53:04.209367Z"
    }
   },
   "outputs": [],
   "source": [
    "from keras.callbacks import EarlyStopping\n",
    "from keras.callbacks import ModelCheckpoint\n",
    "es = EarlyStopping(monitor='val_loss', mode='min', verbose=1, patience=10)\n",
    "mc = ModelCheckpoint('res50model1.h5', monitor='val_accuracy', mode='max', verbose=1, save_best_only=True)"
   ]
  },
  {
   "cell_type": "code",
   "execution_count": 11,
   "metadata": {
    "execution": {
     "iopub.execute_input": "2021-07-12T14:53:07.268002Z",
     "iopub.status.busy": "2021-07-12T14:53:07.267639Z",
     "iopub.status.idle": "2021-07-12T14:56:34.027910Z",
     "shell.execute_reply": "2021-07-12T14:56:34.026927Z",
     "shell.execute_reply.started": "2021-07-12T14:53:07.267969Z"
    }
   },
   "outputs": [
    {
     "name": "stderr",
     "output_type": "stream",
     "text": [
      "/opt/conda/lib/python3.7/site-packages/tensorflow/python/keras/engine/training.py:1844: UserWarning: `Model.fit_generator` is deprecated and will be removed in a future version. Please use `Model.fit`, which supports generators.\n",
      "  warnings.warn('`Model.fit_generator` is deprecated and '\n"
     ]
    },
    {
     "name": "stdout",
     "output_type": "stream",
     "text": [
      "Epoch 1/50\n",
      "77/77 [==============================] - 21s 218ms/step - loss: 1.5051 - accuracy: 0.2521 - val_loss: 1.2522 - val_accuracy: 0.5024\n",
      "\n",
      "Epoch 00001: val_accuracy improved from -inf to 0.50242, saving model to res50model1.h5\n",
      "Epoch 2/50\n",
      "77/77 [==============================] - 7s 96ms/step - loss: 1.3055 - accuracy: 0.3923 - val_loss: 1.0931 - val_accuracy: 0.5217\n",
      "\n",
      "Epoch 00002: val_accuracy improved from 0.50242 to 0.52174, saving model to res50model1.h5\n",
      "Epoch 3/50\n",
      "77/77 [==============================] - 7s 94ms/step - loss: 1.1985 - accuracy: 0.4746 - val_loss: 0.9695 - val_accuracy: 0.5700\n",
      "\n",
      "Epoch 00003: val_accuracy improved from 0.52174 to 0.57005, saving model to res50model1.h5\n",
      "Epoch 4/50\n",
      "77/77 [==============================] - 8s 102ms/step - loss: 1.0600 - accuracy: 0.5454 - val_loss: 0.8943 - val_accuracy: 0.5700\n",
      "\n",
      "Epoch 00004: val_accuracy did not improve from 0.57005\n",
      "Epoch 5/50\n",
      "77/77 [==============================] - 7s 96ms/step - loss: 0.9870 - accuracy: 0.5580 - val_loss: 0.8691 - val_accuracy: 0.5749\n",
      "\n",
      "Epoch 00005: val_accuracy improved from 0.57005 to 0.57488, saving model to res50model1.h5\n",
      "Epoch 6/50\n",
      "77/77 [==============================] - 8s 99ms/step - loss: 0.9311 - accuracy: 0.6046 - val_loss: 0.8452 - val_accuracy: 0.6232\n",
      "\n",
      "Epoch 00006: val_accuracy improved from 0.57488 to 0.62319, saving model to res50model1.h5\n",
      "Epoch 7/50\n",
      "77/77 [==============================] - 8s 101ms/step - loss: 0.8663 - accuracy: 0.6204 - val_loss: 0.7921 - val_accuracy: 0.6425\n",
      "\n",
      "Epoch 00007: val_accuracy improved from 0.62319 to 0.64251, saving model to res50model1.h5\n",
      "Epoch 8/50\n",
      "77/77 [==============================] - 7s 94ms/step - loss: 0.7618 - accuracy: 0.6877 - val_loss: 0.7631 - val_accuracy: 0.6908\n",
      "\n",
      "Epoch 00008: val_accuracy improved from 0.64251 to 0.69082, saving model to res50model1.h5\n",
      "Epoch 9/50\n",
      "77/77 [==============================] - 7s 97ms/step - loss: 0.7446 - accuracy: 0.6905 - val_loss: 0.8016 - val_accuracy: 0.6473\n",
      "\n",
      "Epoch 00009: val_accuracy did not improve from 0.69082\n",
      "Epoch 10/50\n",
      "77/77 [==============================] - 7s 96ms/step - loss: 0.6930 - accuracy: 0.7106 - val_loss: 0.7911 - val_accuracy: 0.7005\n",
      "\n",
      "Epoch 00010: val_accuracy improved from 0.69082 to 0.70048, saving model to res50model1.h5\n",
      "Epoch 11/50\n",
      "77/77 [==============================] - 8s 105ms/step - loss: 0.6489 - accuracy: 0.7355 - val_loss: 0.7639 - val_accuracy: 0.6957\n",
      "\n",
      "Epoch 00011: val_accuracy did not improve from 0.70048\n",
      "Epoch 12/50\n",
      "77/77 [==============================] - 7s 93ms/step - loss: 0.5935 - accuracy: 0.7517 - val_loss: 0.8024 - val_accuracy: 0.7101\n",
      "\n",
      "Epoch 00012: val_accuracy improved from 0.70048 to 0.71014, saving model to res50model1.h5\n",
      "Epoch 13/50\n",
      "77/77 [==============================] - 7s 96ms/step - loss: 0.5796 - accuracy: 0.7549 - val_loss: 0.7340 - val_accuracy: 0.7005\n",
      "\n",
      "Epoch 00013: val_accuracy did not improve from 0.71014\n",
      "Epoch 14/50\n",
      "77/77 [==============================] - 7s 96ms/step - loss: 0.5351 - accuracy: 0.7896 - val_loss: 0.8827 - val_accuracy: 0.6908\n",
      "\n",
      "Epoch 00014: val_accuracy did not improve from 0.71014\n",
      "Epoch 15/50\n",
      "77/77 [==============================] - 8s 99ms/step - loss: 0.5536 - accuracy: 0.7767 - val_loss: 0.7771 - val_accuracy: 0.7053\n",
      "\n",
      "Epoch 00015: val_accuracy did not improve from 0.71014\n",
      "Epoch 16/50\n",
      "77/77 [==============================] - 8s 96ms/step - loss: 0.5048 - accuracy: 0.8181 - val_loss: 0.7792 - val_accuracy: 0.6957\n",
      "\n",
      "Epoch 00016: val_accuracy did not improve from 0.71014\n",
      "Epoch 17/50\n",
      "77/77 [==============================] - 7s 96ms/step - loss: 0.4888 - accuracy: 0.8173 - val_loss: 0.7920 - val_accuracy: 0.6957\n",
      "\n",
      "Epoch 00017: val_accuracy did not improve from 0.71014\n",
      "Epoch 18/50\n",
      "77/77 [==============================] - 7s 94ms/step - loss: 0.4505 - accuracy: 0.8336 - val_loss: 0.7758 - val_accuracy: 0.7150\n",
      "\n",
      "Epoch 00018: val_accuracy improved from 0.71014 to 0.71498, saving model to res50model1.h5\n",
      "Epoch 19/50\n",
      "77/77 [==============================] - 7s 97ms/step - loss: 0.4733 - accuracy: 0.8157 - val_loss: 0.8207 - val_accuracy: 0.7198\n",
      "\n",
      "Epoch 00019: val_accuracy improved from 0.71498 to 0.71981, saving model to res50model1.h5\n",
      "Epoch 20/50\n",
      "77/77 [==============================] - 8s 98ms/step - loss: 0.4264 - accuracy: 0.8383 - val_loss: 0.8992 - val_accuracy: 0.7150\n",
      "\n",
      "Epoch 00020: val_accuracy did not improve from 0.71981\n",
      "Epoch 21/50\n",
      "77/77 [==============================] - 7s 95ms/step - loss: 0.3773 - accuracy: 0.8505 - val_loss: 0.9244 - val_accuracy: 0.7053\n",
      "\n",
      "Epoch 00021: val_accuracy did not improve from 0.71981\n",
      "Epoch 22/50\n",
      "77/77 [==============================] - 7s 94ms/step - loss: 0.3841 - accuracy: 0.8518 - val_loss: 0.8566 - val_accuracy: 0.7053\n",
      "\n",
      "Epoch 00022: val_accuracy did not improve from 0.71981\n",
      "Epoch 23/50\n",
      "77/77 [==============================] - 7s 95ms/step - loss: 0.4190 - accuracy: 0.8559 - val_loss: 0.9198 - val_accuracy: 0.7053\n",
      "\n",
      "Epoch 00023: val_accuracy did not improve from 0.71981\n",
      "Epoch 00023: early stopping\n"
     ]
    }
   ],
   "source": [
    "r = model.fit_generator(training_set, validation_data = valid_set,\n",
    "                        epochs =50,\n",
    "                        steps_per_epoch = len(training_set),\n",
    "                        validation_steps = len(valid_set),\n",
    "                       callbacks=[es, mc])"
   ]
  },
  {
   "cell_type": "code",
   "execution_count": null,
   "metadata": {},
   "outputs": [],
   "source": []
  },
  {
   "cell_type": "code",
   "execution_count": null,
   "metadata": {},
   "outputs": [],
   "source": []
  },
  {
   "cell_type": "code",
   "execution_count": null,
   "metadata": {},
   "outputs": [],
   "source": []
  },
  {
   "cell_type": "code",
   "execution_count": null,
   "metadata": {},
   "outputs": [],
   "source": []
  }
 ],
 "metadata": {
  "kernelspec": {
   "display_name": "Python 3",
   "language": "python",
   "name": "python3"
  },
  "language_info": {
   "codemirror_mode": {
    "name": "ipython",
    "version": 3
   },
   "file_extension": ".py",
   "mimetype": "text/x-python",
   "name": "python",
   "nbconvert_exporter": "python",
   "pygments_lexer": "ipython3",
   "version": "3.7.4"
  }
 },
 "nbformat": 4,
 "nbformat_minor": 4
}
