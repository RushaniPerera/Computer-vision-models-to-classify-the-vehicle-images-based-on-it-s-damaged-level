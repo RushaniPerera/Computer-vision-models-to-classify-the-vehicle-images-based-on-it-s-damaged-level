{
 "cells": [
  {
   "cell_type": "code",
   "execution_count": null,
   "metadata": {
    "_cell_guid": "b1076dfc-b9ad-4769-8c92-a6c4dae69d19",
    "_uuid": "8f2839f25d086af736a60e9eeb907d3b93b6e0e5"
   },
   "outputs": [],
   "source": [
    "\n",
    "import numpy as np # linear algebra\n",
    "import pandas as pd # data processing, CSV file I/O (e.g. pd.read_csv)\n",
    "\n",
    "import os\n",
    "for dirname, _, filenames in os.walk('/kaggle/input'):\n",
    "    for filename in filenames:\n",
    "        print(os.path.join(dirname, filename))\n",
    "\n",
   ]
  },
  {
   "cell_type": "code",
   "execution_count": 146,
   "metadata": {
    "execution": {
     "iopub.execute_input": "2021-07-10T09:52:35.675012Z",
     "iopub.status.busy": "2021-07-10T09:52:35.674670Z",
     "iopub.status.idle": "2021-07-10T09:52:35.680859Z",
     "shell.execute_reply": "2021-07-10T09:52:35.680000Z",
     "shell.execute_reply.started": "2021-07-10T09:52:35.674980Z"
    }
   },
   "outputs": [],
   "source": [
    "import tensorflow as tf\n",
    "import keras as K\n",
    "from keras.layers import Input, Lambda, Dense, Flatten\n",
    "from keras.models import Model\n",
    "from keras.applications.inception_v3 import InceptionV3\n",
    "from keras import applications\n",
    "from keras.applications.inception_v3 import preprocess_input\n",
    "\n",
    "\n",
    "from keras.preprocessing import image\n",
    "from keras.preprocessing.image import ImageDataGenerator, load_img\n",
    "from keras.models import Sequential\n",
    "import numpy as np\n",
    "from glob import glob"
   ]
  },
  {
   "cell_type": "code",
   "execution_count": 147,
   "metadata": {
    "execution": {
     "iopub.execute_input": "2021-07-10T09:52:38.650649Z",
     "iopub.status.busy": "2021-07-10T09:52:38.650295Z",
     "iopub.status.idle": "2021-07-10T09:52:38.654951Z",
     "shell.execute_reply": "2021-07-10T09:52:38.653800Z",
     "shell.execute_reply.started": "2021-07-10T09:52:38.650616Z"
    }
   },
   "outputs": [],
   "source": [
    "train_path = '../input/newtraindata/newdataset'\n",
    "valid_path = '../input/valida/validation'\n",
    "test_path   ='../input/newtestdata1/CV-validation_dataset'"
   ]
  },
  {
   "cell_type": "code",
   "execution_count": 148,
   "metadata": {
    "execution": {
     "iopub.execute_input": "2021-07-10T09:52:40.823348Z",
     "iopub.status.busy": "2021-07-10T09:52:40.823031Z",
     "iopub.status.idle": "2021-07-10T09:52:42.895710Z",
     "shell.execute_reply": "2021-07-10T09:52:42.894812Z",
     "shell.execute_reply.started": "2021-07-10T09:52:40.823319Z"
    }
   },
   "outputs": [],
   "source": [
    "IMAGE_SIZE=[224,224]\n",
    "incep = InceptionV3(input_shape=IMAGE_SIZE+[3], weights = 'imagenet', include_top = False)"
   ]
  },
  {
   "cell_type": "code",
   "execution_count": 149,
   "metadata": {
    "execution": {
     "iopub.execute_input": "2021-07-10T09:52:44.611030Z",
     "iopub.status.busy": "2021-07-10T09:52:44.610670Z",
     "iopub.status.idle": "2021-07-10T09:52:44.623850Z",
     "shell.execute_reply": "2021-07-10T09:52:44.622688Z",
     "shell.execute_reply.started": "2021-07-10T09:52:44.611000Z"
    }
   },
   "outputs": [],
   "source": [
    "for layer in incep.layers:\n",
    "    layer.trainable = False"
   ]
  },
  {
   "cell_type": "code",
   "execution_count": 150,
   "metadata": {
    "execution": {
     "iopub.execute_input": "2021-07-10T09:52:47.642908Z",
     "iopub.status.busy": "2021-07-10T09:52:47.642523Z",
     "iopub.status.idle": "2021-07-10T09:52:47.650446Z",
     "shell.execute_reply": "2021-07-10T09:52:47.649399Z",
     "shell.execute_reply.started": "2021-07-10T09:52:47.642870Z"
    }
   },
   "outputs": [],
   "source": [
    "train_datagen = ImageDataGenerator(rescale = 1./255,\n",
    "                                  shear_range = 0.2,\n",
    "                                  zoom_range = 0.2,\n",
    "                                  horizontal_flip = True)\n",
    "\n",
    "\n",
    "test_datagen = ImageDataGenerator(rescale = 1./255)\n",
    "\n",
    "valid_datagen = ImageDataGenerator(rescale = 1./255)"
   ]
  },
  {
   "cell_type": "code",
   "execution_count": 151,
   "metadata": {
    "execution": {
     "iopub.execute_input": "2021-07-10T09:52:50.204396Z",
     "iopub.status.busy": "2021-07-10T09:52:50.204080Z",
     "iopub.status.idle": "2021-07-10T09:52:50.320269Z",
     "shell.execute_reply": "2021-07-10T09:52:50.319401Z",
     "shell.execute_reply.started": "2021-07-10T09:52:50.204368Z"
    }
   },
   "outputs": [
    {
     "name": "stdout",
     "output_type": "stream",
     "text": [
      "Found 1217 images belonging to 4 classes.\n"
     ]
    }
   ],
   "source": [
    "training_set = train_datagen.flow_from_directory(train_path,\n",
    "                                                target_size = (224, 224),\n",
    "                                                batch_size=32,\n",
    "                                                class_mode = 'categorical')"
   ]
  },
  {
   "cell_type": "code",
   "execution_count": 152,
   "metadata": {
    "execution": {
     "iopub.execute_input": "2021-07-10T09:52:52.179619Z",
     "iopub.status.busy": "2021-07-10T09:52:52.179283Z",
     "iopub.status.idle": "2021-07-10T09:52:52.292173Z",
     "shell.execute_reply": "2021-07-10T09:52:52.291249Z",
     "shell.execute_reply.started": "2021-07-10T09:52:52.179590Z"
    }
   },
   "outputs": [
    {
     "name": "stdout",
     "output_type": "stream",
     "text": [
      "Found 207 images belonging to 4 classes.\n"
     ]
    }
   ],
   "source": [
    "valid_set = valid_datagen.flow_from_directory(valid_path,\n",
    "                                                target_size = (224, 224),\n",
    "                                                batch_size=32,                                                \n",
    "                                                class_mode = 'categorical')"
   ]
  },
  {
   "cell_type": "code",
   "execution_count": 153,
   "metadata": {
    "execution": {
     "iopub.execute_input": "2021-07-10T09:53:16.190943Z",
     "iopub.status.busy": "2021-07-10T09:53:16.190564Z",
     "iopub.status.idle": "2021-07-10T09:53:16.302321Z",
     "shell.execute_reply": "2021-07-10T09:53:16.301406Z",
     "shell.execute_reply.started": "2021-07-10T09:53:16.190910Z"
    }
   },
   "outputs": [
    {
     "name": "stdout",
     "output_type": "stream",
     "text": [
      "Found 47 images belonging to 4 classes.\n"
     ]
    }
   ],
   "source": [
    "test_set = test_datagen.flow_from_directory(test_path,\n",
    "                                            target_size = (224, 224),\n",
    "                                            batch_size=16,\n",
    "                                            class_mode = 'categorical',\n",
    "                                            shuffle=False)"
   ]
  },
  {
   "cell_type": "code",
   "execution_count": 154,
   "metadata": {
    "execution": {
     "iopub.execute_input": "2021-07-10T09:54:05.054083Z",
     "iopub.status.busy": "2021-07-10T09:54:05.053698Z",
     "iopub.status.idle": "2021-07-10T09:54:05.059054Z",
     "shell.execute_reply": "2021-07-10T09:54:05.058097Z",
     "shell.execute_reply.started": "2021-07-10T09:54:05.054050Z"
    }
   },
   "outputs": [],
   "source": [
    "from keras.callbacks import EarlyStopping\n",
    "from keras.callbacks import ModelCheckpoint\n",
    "es = EarlyStopping(monitor='val_loss', mode='min', verbose=1, patience=10)\n",
    "mc = ModelCheckpoint('incep3.h5', monitor='val_accuracy', mode='max', verbose=1, save_best_only=True)"
   ]
  },
  {
   "cell_type": "code",
   "execution_count": 158,
   "metadata": {
    "execution": {
     "iopub.execute_input": "2021-07-10T10:37:48.482675Z",
     "iopub.status.busy": "2021-07-10T10:37:48.482248Z",
     "iopub.status.idle": "2021-07-10T10:37:48.547184Z",
     "shell.execute_reply": "2021-07-10T10:37:48.546307Z",
     "shell.execute_reply.started": "2021-07-10T10:37:48.482642Z"
    }
   },
   "outputs": [],
   "source": [
    "to_res = (224, 224)\n",
    "model = K.models.Sequential()\n",
    "model.add(K.layers.Lambda(lambda image: tf.image.resize(image, (224, 224)))) \n",
    "model.add(incep)\n",
    "model.add(K.layers.Flatten())\n",
    "model.add(K.layers.BatchNormalization())\n",
    "model.add(K.layers.Dense(256, activation='relu'))\n",
    "model.add(K.layers.Dropout(0.5))\n",
    "model.add(K.layers.BatchNormalization())\n",
    "model.add(K.layers.Dense(128, activation='relu'))\n",
    "model.add(K.layers.Dropout(0.5))\n",
    "model.add(K.layers.BatchNormalization())\n",
    "model.add(K.layers.Dense(128, activation='relu'))\n",
    "model.add(K.layers.Dropout(0.5))\n",
    "model.add(K.layers.BatchNormalization())\n",
    "model.add(K.layers.Dense(64, activation='relu'))\n",
    "model.add(K.layers.Dense(10, activation='relu'))\n",
    "model.add(K.layers.Dense(4, activation='softmax'))"
   ]
  },
  {
   "cell_type": "code",
   "execution_count": 159,
   "metadata": {
    "execution": {
     "iopub.execute_input": "2021-07-10T10:37:51.565590Z",
     "iopub.status.busy": "2021-07-10T10:37:51.565279Z",
     "iopub.status.idle": "2021-07-10T10:37:51.582879Z",
     "shell.execute_reply": "2021-07-10T10:37:51.581606Z",
     "shell.execute_reply.started": "2021-07-10T10:37:51.565562Z"
    }
   },
   "outputs": [],
   "source": [
    "model.compile(loss= 'categorical_crossentropy', optimizer='adam', metrics = ['accuracy'])"
   ]
  },
  {
   "cell_type": "code",
   "execution_count": 160,
   "metadata": {
    "execution": {
     "iopub.execute_input": "2021-07-10T10:37:54.493614Z",
     "iopub.status.busy": "2021-07-10T10:37:54.493302Z",
     "iopub.status.idle": "2021-07-10T10:47:10.638602Z",
     "shell.execute_reply": "2021-07-10T10:47:10.637849Z",
     "shell.execute_reply.started": "2021-07-10T10:37:54.493585Z"
    }
   },
   "outputs": [
    {
     "name": "stdout",
     "output_type": "stream",
     "text": [
      "Epoch 1/50\n",
      "39/39 [==============================] - 25s 521ms/step - loss: 1.5862 - accuracy: 0.2466 - val_loss: 1.3547 - val_accuracy: 0.3092\n",
      "\n",
      "Epoch 00001: val_accuracy did not improve from 0.70048\n",
      "Epoch 2/50\n",
      "39/39 [==============================] - 17s 430ms/step - loss: 1.3574 - accuracy: 0.3538 - val_loss: 1.2087 - val_accuracy: 0.4976\n",
      "\n",
      "Epoch 00002: val_accuracy did not improve from 0.70048\n",
      "Epoch 3/50\n",
      "39/39 [==============================] - 17s 442ms/step - loss: 1.2734 - accuracy: 0.4208 - val_loss: 1.1733 - val_accuracy: 0.5169\n",
      "\n",
      "Epoch 00003: val_accuracy did not improve from 0.70048\n",
      "Epoch 4/50\n",
      "39/39 [==============================] - 17s 425ms/step - loss: 1.2420 - accuracy: 0.4185 - val_loss: 1.0931 - val_accuracy: 0.5121\n",
      "\n",
      "Epoch 00004: val_accuracy did not improve from 0.70048\n",
      "Epoch 5/50\n",
      "39/39 [==============================] - 18s 455ms/step - loss: 1.1561 - accuracy: 0.4698 - val_loss: 1.0302 - val_accuracy: 0.5797\n",
      "\n",
      "Epoch 00005: val_accuracy did not improve from 0.70048\n",
      "Epoch 6/50\n",
      "39/39 [==============================] - 17s 426ms/step - loss: 1.0664 - accuracy: 0.5445 - val_loss: 0.9303 - val_accuracy: 0.5990\n",
      "\n",
      "Epoch 00006: val_accuracy did not improve from 0.70048\n",
      "Epoch 7/50\n",
      "39/39 [==============================] - 17s 442ms/step - loss: 0.9785 - accuracy: 0.5722 - val_loss: 0.8691 - val_accuracy: 0.6087\n",
      "\n",
      "Epoch 00007: val_accuracy did not improve from 0.70048\n",
      "Epoch 8/50\n",
      "39/39 [==============================] - 17s 425ms/step - loss: 0.9529 - accuracy: 0.5990 - val_loss: 0.8395 - val_accuracy: 0.6329\n",
      "\n",
      "Epoch 00008: val_accuracy did not improve from 0.70048\n",
      "Epoch 9/50\n",
      "39/39 [==============================] - 17s 445ms/step - loss: 0.9190 - accuracy: 0.6172 - val_loss: 0.8689 - val_accuracy: 0.6087\n",
      "\n",
      "Epoch 00009: val_accuracy did not improve from 0.70048\n",
      "Epoch 10/50\n",
      "39/39 [==============================] - 17s 422ms/step - loss: 0.9042 - accuracy: 0.6370 - val_loss: 0.8266 - val_accuracy: 0.6377\n",
      "\n",
      "Epoch 00010: val_accuracy did not improve from 0.70048\n",
      "Epoch 11/50\n",
      "39/39 [==============================] - 17s 445ms/step - loss: 0.8514 - accuracy: 0.6614 - val_loss: 0.8237 - val_accuracy: 0.6329\n",
      "\n",
      "Epoch 00011: val_accuracy did not improve from 0.70048\n",
      "Epoch 12/50\n",
      "39/39 [==============================] - 17s 439ms/step - loss: 0.7817 - accuracy: 0.6701 - val_loss: 0.8500 - val_accuracy: 0.6329\n",
      "\n",
      "Epoch 00012: val_accuracy did not improve from 0.70048\n",
      "Epoch 13/50\n",
      "39/39 [==============================] - 17s 422ms/step - loss: 0.8018 - accuracy: 0.6658 - val_loss: 0.8248 - val_accuracy: 0.6812\n",
      "\n",
      "Epoch 00013: val_accuracy did not improve from 0.70048\n",
      "Epoch 14/50\n",
      "39/39 [==============================] - 17s 445ms/step - loss: 0.7857 - accuracy: 0.6670 - val_loss: 0.8253 - val_accuracy: 0.6957\n",
      "\n",
      "Epoch 00014: val_accuracy did not improve from 0.70048\n",
      "Epoch 15/50\n",
      "39/39 [==============================] - 17s 432ms/step - loss: 0.7660 - accuracy: 0.6931 - val_loss: 0.8163 - val_accuracy: 0.6812\n",
      "\n",
      "Epoch 00015: val_accuracy did not improve from 0.70048\n",
      "Epoch 16/50\n",
      "39/39 [==============================] - 18s 453ms/step - loss: 0.7086 - accuracy: 0.7183 - val_loss: 0.8163 - val_accuracy: 0.6908\n",
      "\n",
      "Epoch 00016: val_accuracy did not improve from 0.70048\n",
      "Epoch 17/50\n",
      "39/39 [==============================] - 17s 447ms/step - loss: 0.7081 - accuracy: 0.7086 - val_loss: 0.7975 - val_accuracy: 0.7053\n",
      "\n",
      "Epoch 00017: val_accuracy improved from 0.70048 to 0.70531, saving model to incep3.h5\n",
      "Epoch 18/50\n",
      "39/39 [==============================] - 18s 453ms/step - loss: 0.7134 - accuracy: 0.7083 - val_loss: 0.8583 - val_accuracy: 0.7053\n",
      "\n",
      "Epoch 00018: val_accuracy did not improve from 0.70531\n",
      "Epoch 19/50\n",
      "39/39 [==============================] - 17s 438ms/step - loss: 0.6945 - accuracy: 0.6948 - val_loss: 0.8398 - val_accuracy: 0.6618\n",
      "\n",
      "Epoch 00019: val_accuracy did not improve from 0.70531\n",
      "Epoch 20/50\n",
      "39/39 [==============================] - 17s 428ms/step - loss: 0.6973 - accuracy: 0.6958 - val_loss: 0.8170 - val_accuracy: 0.6763\n",
      "\n",
      "Epoch 00020: val_accuracy did not improve from 0.70531\n",
      "Epoch 21/50\n",
      "39/39 [==============================] - 17s 421ms/step - loss: 0.6435 - accuracy: 0.7465 - val_loss: 0.7967 - val_accuracy: 0.6860\n",
      "\n",
      "Epoch 00021: val_accuracy did not improve from 0.70531\n",
      "Epoch 22/50\n",
      "39/39 [==============================] - 17s 431ms/step - loss: 0.6848 - accuracy: 0.7311 - val_loss: 0.7666 - val_accuracy: 0.6860\n",
      "\n",
      "Epoch 00022: val_accuracy did not improve from 0.70531\n",
      "Epoch 23/50\n",
      "39/39 [==============================] - 17s 425ms/step - loss: 0.6249 - accuracy: 0.7527 - val_loss: 0.7727 - val_accuracy: 0.6957\n",
      "\n",
      "Epoch 00023: val_accuracy did not improve from 0.70531\n",
      "Epoch 24/50\n",
      "39/39 [==============================] - 17s 433ms/step - loss: 0.6135 - accuracy: 0.7537 - val_loss: 0.8165 - val_accuracy: 0.7150\n",
      "\n",
      "Epoch 00024: val_accuracy improved from 0.70531 to 0.71498, saving model to incep3.h5\n",
      "Epoch 25/50\n",
      "39/39 [==============================] - 17s 429ms/step - loss: 0.5500 - accuracy: 0.7700 - val_loss: 0.7849 - val_accuracy: 0.7101\n",
      "\n",
      "Epoch 00025: val_accuracy did not improve from 0.71498\n",
      "Epoch 26/50\n",
      "39/39 [==============================] - 17s 430ms/step - loss: 0.6035 - accuracy: 0.7723 - val_loss: 0.7818 - val_accuracy: 0.7150\n",
      "\n",
      "Epoch 00026: val_accuracy did not improve from 0.71498\n",
      "Epoch 27/50\n",
      "39/39 [==============================] - 17s 430ms/step - loss: 0.5727 - accuracy: 0.7817 - val_loss: 0.8296 - val_accuracy: 0.6860\n",
      "\n",
      "Epoch 00027: val_accuracy did not improve from 0.71498\n",
      "Epoch 28/50\n",
      "39/39 [==============================] - 17s 421ms/step - loss: 0.5003 - accuracy: 0.8056 - val_loss: 0.8200 - val_accuracy: 0.6908\n",
      "\n",
      "Epoch 00028: val_accuracy did not improve from 0.71498\n",
      "Epoch 29/50\n",
      "39/39 [==============================] - 17s 435ms/step - loss: 0.5438 - accuracy: 0.7736 - val_loss: 0.8257 - val_accuracy: 0.7150\n",
      "\n",
      "Epoch 00029: val_accuracy did not improve from 0.71498\n",
      "Epoch 30/50\n",
      "39/39 [==============================] - 16s 416ms/step - loss: 0.5318 - accuracy: 0.7936 - val_loss: 0.8717 - val_accuracy: 0.7101\n",
      "\n",
      "Epoch 00030: val_accuracy did not improve from 0.71498\n",
      "Epoch 31/50\n",
      "39/39 [==============================] - 17s 433ms/step - loss: 0.6041 - accuracy: 0.7750 - val_loss: 0.8266 - val_accuracy: 0.7343\n",
      "\n",
      "Epoch 00031: val_accuracy improved from 0.71498 to 0.73430, saving model to incep3.h5\n",
      "Epoch 32/50\n",
      "39/39 [==============================] - 17s 433ms/step - loss: 0.4827 - accuracy: 0.8367 - val_loss: 0.8351 - val_accuracy: 0.7198\n",
      "\n",
      "Epoch 00032: val_accuracy did not improve from 0.73430\n",
      "Epoch 00032: early stopping\n"
     ]
    }
   ],
   "source": [
    "r = model.fit_generator(training_set, validation_data = valid_set,\n",
    "                        epochs = 50,\n",
    "                        steps_per_epoch = len(training_set),\n",
    "                        validation_steps = len(valid_set),\n",
    "                        callbacks=[es, mc])"
   ]
  },
  {
   "cell_type": "code",
   "execution_count": 161,
   "metadata": {
    "execution": {
     "iopub.execute_input": "2021-07-10T10:52:51.070179Z",
     "iopub.status.busy": "2021-07-10T10:52:51.069840Z",
     "iopub.status.idle": "2021-07-10T10:52:51.206436Z",
     "shell.execute_reply": "2021-07-10T10:52:51.205487Z",
     "shell.execute_reply.started": "2021-07-10T10:52:51.070151Z"
    }
   },
   "outputs": [
    {
     "data": {
      "image/png": "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\n",
      "text/plain": [
       "<Figure size 432x288 with 1 Axes>"
      ]
     },
     "metadata": {
      "needs_background": "light"
     },
     "output_type": "display_data"
    }
   ],
   "source": [
    "import matplotlib.pyplot as plt\n",
    "plt.plot(r.history['loss'], label = 'train_lost')\n",
    "plt.plot(r.history['val_loss'], label = 'val_lost')\n",
    "plt.legend()\n",
    "plt.show()"
   ]
  },
  {
   "cell_type": "code",
   "execution_count": 162,
   "metadata": {
    "execution": {
     "iopub.execute_input": "2021-07-10T10:52:54.548193Z",
     "iopub.status.busy": "2021-07-10T10:52:54.547864Z",
     "iopub.status.idle": "2021-07-10T10:52:54.686297Z",
     "shell.execute_reply": "2021-07-10T10:52:54.685364Z",
     "shell.execute_reply.started": "2021-07-10T10:52:54.548163Z"
    }
   },
   "outputs": [
    {
     "data": {
      "image/png": "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\n",
      "text/plain": [
       "<Figure size 432x288 with 1 Axes>"
      ]
     },
     "metadata": {
      "needs_background": "light"
     },
     "output_type": "display_data"
    }
   ],
   "source": [
    "import matplotlib.pyplot as plt\n",
    "plt.plot(r.history['accuracy'], label = 'train accuracy')\n",
    "plt.plot(r.history['val_accuracy'], label = 'val accuracy')\n",
    "plt.legend()\n",
    "plt.show() "
   ]
  },
  {
   "cell_type": "code",
   "execution_count": 163,
   "metadata": {
    "execution": {
     "iopub.execute_input": "2021-07-10T10:53:25.711585Z",
     "iopub.status.busy": "2021-07-10T10:53:25.711264Z",
     "iopub.status.idle": "2021-07-10T10:53:28.536293Z",
     "shell.execute_reply": "2021-07-10T10:53:28.535429Z",
     "shell.execute_reply.started": "2021-07-10T10:53:25.711554Z"
    }
   },
   "outputs": [],
   "source": [
    "from keras.models import load_model\n",
    "saved_model = load_model('incep3.h5')"
   ]
  },
  {
   "cell_type": "code",
   "execution_count": 169,
   "metadata": {
    "execution": {
     "iopub.execute_input": "2021-07-10T10:54:21.380580Z",
     "iopub.status.busy": "2021-07-10T10:54:21.380256Z",
     "iopub.status.idle": "2021-07-10T10:54:21.976085Z",
     "shell.execute_reply": "2021-07-10T10:54:21.975226Z",
     "shell.execute_reply.started": "2021-07-10T10:54:21.380552Z"
    }
   },
   "outputs": [],
   "source": [
    "y_pred = saved_model.predict(test_set)"
   ]
  },
  {
   "cell_type": "code",
   "execution_count": null,
   "metadata": {
    "execution": {
     "iopub.execute_input": "2021-07-10T08:08:03.154869Z",
     "iopub.status.busy": "2021-07-10T08:08:03.154541Z",
     "iopub.status.idle": "2021-07-10T08:08:03.90818Z",
     "shell.execute_reply": "2021-07-10T08:08:03.907166Z",
     "shell.execute_reply.started": "2021-07-10T08:08:03.154839Z"
    }
   },
   "outputs": [],
   "source": [
    "saved_model.save(\"Incepmodel2.h5\")"
   ]
  },
  {
   "cell_type": "code",
   "execution_count": 142,
   "metadata": {
    "execution": {
     "iopub.execute_input": "2021-07-10T09:51:53.342595Z",
     "iopub.status.busy": "2021-07-10T09:51:53.342256Z",
     "iopub.status.idle": "2021-07-10T09:51:53.347404Z",
     "shell.execute_reply": "2021-07-10T09:51:53.346542Z",
     "shell.execute_reply.started": "2021-07-10T09:51:53.342562Z"
    }
   },
   "outputs": [
    {
     "name": "stdout",
     "output_type": "stream",
     "text": [
      "{'low': 0, 'medium': 1, 'no_damage': 2, 'severe': 3}\n"
     ]
    }
   ],
   "source": [
    "print(test_set.class_indices)"
   ]
  },
  {
   "cell_type": "code",
   "execution_count": 167,
   "metadata": {
    "execution": {
     "iopub.execute_input": "2021-07-10T10:53:56.061964Z",
     "iopub.status.busy": "2021-07-10T10:53:56.061520Z",
     "iopub.status.idle": "2021-07-10T10:53:56.072174Z",
     "shell.execute_reply": "2021-07-10T10:53:56.070839Z",
     "shell.execute_reply.started": "2021-07-10T10:53:56.061923Z"
    }
   },
   "outputs": [
    {
     "name": "stdout",
     "output_type": "stream",
     "text": [
      "[0 0 0 1 1 1 1 1 1 1 1 1 1 1 1 1 2 2 2 2 2 2 2 2 2 2 2 2 2 2 3 3 3 3 3 3 3\n",
      " 3 3 3 3 3 3 3 3 3 3]\n"
     ]
    }
   ],
   "source": [
    "import numpy\n",
    "print(test_set.classes)"
   ]
  },
  {
   "cell_type": "code",
   "execution_count": 170,
   "metadata": {
    "execution": {
     "iopub.execute_input": "2021-07-10T10:54:24.968812Z",
     "iopub.status.busy": "2021-07-10T10:54:24.968468Z",
     "iopub.status.idle": "2021-07-10T10:54:24.974447Z",
     "shell.execute_reply": "2021-07-10T10:54:24.973634Z",
     "shell.execute_reply.started": "2021-07-10T10:54:24.968762Z"
    }
   },
   "outputs": [
    {
     "data": {
      "text/plain": [
       "array([1, 3, 0, 1, 2, 1, 3, 3, 1, 3, 2, 1, 3, 1, 1, 1, 2, 2, 2, 2, 2, 2,\n",
       "       2, 2, 2, 1, 2, 2, 1, 2, 3, 3, 3, 1, 3, 2, 3, 3, 3, 3, 3, 3, 2, 3,\n",
       "       3, 3, 3])"
      ]
     },
     "execution_count": 170,
     "metadata": {},
     "output_type": "execute_result"
    }
   ],
   "source": [
    "y_pred = np.argmax(y_pred, axis=1)\n",
    "y_pred "
   ]
  },
  {
   "cell_type": "code",
   "execution_count": 171,
   "metadata": {
    "execution": {
     "iopub.execute_input": "2021-07-10T10:54:31.988638Z",
     "iopub.status.busy": "2021-07-10T10:54:31.988304Z",
     "iopub.status.idle": "2021-07-10T10:54:32.002350Z",
     "shell.execute_reply": "2021-07-10T10:54:32.001196Z",
     "shell.execute_reply.started": "2021-07-10T10:54:31.988607Z"
    }
   },
   "outputs": [
    {
     "name": "stdout",
     "output_type": "stream",
     "text": [
      "              precision    recall  f1-score   support\n",
      "\n",
      "         low       1.00      0.33      0.50         3\n",
      "      medium       0.64      0.54      0.58        13\n",
      "   no_damage       0.75      0.86      0.80        14\n",
      "      severe       0.74      0.82      0.78        17\n",
      "\n",
      "    accuracy                           0.72        47\n",
      "   macro avg       0.78      0.64      0.67        47\n",
      "weighted avg       0.73      0.72      0.71        47\n",
      "\n"
     ]
    }
   ],
   "source": [
    "from sklearn.metrics import classification_report\n",
    "target_names = ['low', 'medium','no_damage','severe']\n",
    "print(classification_report(test_set.classes, y_pred, target_names=target_names))"
   ]
  },
  {
   "cell_type": "code",
   "execution_count": null,
   "metadata": {},
   "outputs": [],
   "source": []
  },
  {
   "cell_type": "code",
   "execution_count": null,
   "metadata": {},
   "outputs": [],
   "source": []
  },
  {
   "cell_type": "code",
   "execution_count": null,
   "metadata": {},
   "outputs": [],
   "source": []
  },
  {
   "cell_type": "code",
   "execution_count": null,
   "metadata": {},
   "outputs": [],
   "source": []
  }
 ],
 "metadata": {
  "kernelspec": {
   "display_name": "Python 3",
   "language": "python",
   "name": "python3"
  },
  "language_info": {
   "codemirror_mode": {
    "name": "ipython",
    "version": 3
   },
   "file_extension": ".py",
   "mimetype": "text/x-python",
   "name": "python",
   "nbconvert_exporter": "python",
   "pygments_lexer": "ipython3",
   "version": "3.7.4"
  }
 },
 "nbformat": 4,
 "nbformat_minor": 4
}
